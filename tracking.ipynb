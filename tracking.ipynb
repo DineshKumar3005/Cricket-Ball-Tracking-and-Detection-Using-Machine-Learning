{
 "cells": [
  {
   "cell_type": "code",
   "execution_count": 1,
   "id": "bbef0e8b",
   "metadata": {
    "scrolled": true
   },
   "outputs": [],
   "source": [
    "import cv2\n",
    "import numpy as np\n",
    "import imutils\n",
    "\n",
    "\n",
    "\n",
    "# Create a VideoCapture object and read from input file\n",
    "# If the input is the camera, pass 0 instead of the video file name\n",
    "cap = cv2.VideoCapture('Downloads/28.mp4')\n",
    "cnt=0\n",
    "\n",
    "# Check if camera opened successfully\n",
    "if (cap.isOpened()== False): \n",
    "  print(\"Error opening video stream or file\")\n",
    "\n",
    "ret,first_frame = cap.read()\n",
    "\n",
    "# Read until video is completed\n",
    "while(cap.isOpened()):\n",
    "    \n",
    "  # Capture frame-by-frame\n",
    "  ret, frame = cap.read()\n",
    "  if ret == True:\n",
    "    \n",
    "    #removing scorecard\n",
    "    roi = frame[:800,:]\n",
    "    \n",
    "    #cropping center of an image\n",
    "    thresh=600\n",
    "    end = roi.shape[1] - thresh\n",
    "    roi = roi[:,thresh:end]\n",
    "    cv2.imshow(\"image\",roi)\n",
    "    # Press Q on keyboard to  exit\n",
    "    if cv2.waitKey(25) & 0xFF == ord('q'):\n",
    "      break\n",
    "\n",
    "    cv2.imwrite('frames/'+str(cnt)+'.png',roi)\n",
    "    cnt=cnt+1\n",
    "\n",
    "  # Break the loop\n",
    "  else: \n",
    "    break\n",
    "cv2.destroyAllWindows()    "
   ]
  },
  {
   "cell_type": "code",
   "execution_count": 9,
   "id": "5356abef",
   "metadata": {},
   "outputs": [],
   "source": [
    "import matplotlib.pyplot as plt\n",
    "import cv2\n",
    "import numpy as np\n",
    "import os\n",
    "import re\n",
    "\n",
    "#listing down all the file names\n",
    "frames = os.listdir('Downloads/frames')\n",
    "frames.sort(key=lambda f: int(re.sub('\\D', '', f)))\n",
    "\n",
    "#reading frames\n",
    "images=[]\n",
    "for i in frames:\n",
    "    img = cv2.imread('Downloads/frames'+i)\n",
    "    img = cv2.cvtColor(img, cv2.COLOR_BGR2GRAY)\n",
    "    img = cv2.GaussianBlur(img,(25,25),0)\n",
    "    images.append(img)\n",
    "    \n",
    "images=np.array(images)"
   ]
  },
  {
   "cell_type": "code",
   "execution_count": 10,
   "id": "8f84f5a0",
   "metadata": {},
   "outputs": [
    {
     "data": {
      "text/plain": [
       "<matplotlib.collections.PathCollection at 0x2622de57970>"
      ]
     },
     "execution_count": 10,
     "metadata": {},
     "output_type": "execute_result"
    },
    {
     "data": {
      "image/png": "[encoded data removed]",
      "text/plain": [
       "<Figure size 1440x288 with 1 Axes>"
      ]
     },
     "metadata": {
      "needs_background": "light"
     },
     "output_type": "display_data"
    }
   ],
   "source": [
    "nonzero=[]\n",
    "for i in range((len(images)-1)):\n",
    "    \n",
    "    mask = cv2.absdiff(images[i],images[i+1])\n",
    "    _ , mask = cv2.threshold(mask, 50, 255, cv2.THRESH_BINARY)\n",
    "    num = np.count_nonzero((mask.ravel()))\n",
    "    nonzero.append(num)\n",
    "    \n",
    "    \n",
    "x = np.arange(0,len(images)-1)\n",
    "y = nonzero\n",
    "\n",
    "plt.figure(figsize=(20,4))\n",
    "plt.scatter(x,y)"
   ]
  },
  {
   "cell_type": "code",
   "execution_count": 8,
   "id": "701987e9",
   "metadata": {},
   "outputs": [
    {
     "ename": "NameError",
     "evalue": "name 'scene_change_idx' is not defined",
     "output_type": "error",
     "traceback": [
      "\u001b[1;31m---------------------------------------------------------------------------\u001b[0m",
      "\u001b[1;31mNameError\u001b[0m                                 Traceback (most recent call last)",
      "\u001b[1;32m<ipython-input-8-aacae62d21ba>\u001b[0m in \u001b[0;36m<module>\u001b[1;34m\u001b[0m\n\u001b[0;32m      5\u001b[0m         \u001b[1;32mbreak\u001b[0m\u001b[1;33m\u001b[0m\u001b[1;33m\u001b[0m\u001b[0m\n\u001b[0;32m      6\u001b[0m \u001b[1;33m\u001b[0m\u001b[0m\n\u001b[1;32m----> 7\u001b[1;33m \u001b[0mframes\u001b[0m \u001b[1;33m=\u001b[0m \u001b[0mframes\u001b[0m\u001b[1;33m[\u001b[0m\u001b[1;33m:\u001b[0m\u001b[1;33m(\u001b[0m\u001b[0mscene_change_idx\u001b[0m \u001b[1;33m+\u001b[0m \u001b[1;36m1\u001b[0m\u001b[1;33m)\u001b[0m\u001b[1;33m]\u001b[0m\u001b[1;33m\u001b[0m\u001b[1;33m\u001b[0m\u001b[0m\n\u001b[0m",
      "\u001b[1;31mNameError\u001b[0m: name 'scene_change_idx' is not defined"
     ]
    }
   ],
   "source": [
    "\n",
    "threshold = 15 * 10e3\n",
    "for i in range(len(images)-1):\n",
    "    if(nonzero[i]>threshold): \n",
    "        scene_change_idx = i\n",
    "        break\n",
    "        \n",
    "frames = frames[:(scene_change_idx + 1)]"
   ]
  },
  {
   "cell_type": "code",
   "execution_count": 17,
   "id": "44be2b85",
   "metadata": {},
   "outputs": [
    {
     "ename": "NameError",
     "evalue": "name 'frames' is not defined",
     "output_type": "error",
     "traceback": [
      "\u001b[1;31m---------------------------------------------------------------------------\u001b[0m",
      "\u001b[1;31mNameError\u001b[0m                                 Traceback (most recent call last)",
      "\u001b[1;32m<ipython-input-17-094a271351c8>\u001b[0m in \u001b[0;36m<module>\u001b[1;34m\u001b[0m\n\u001b[1;32m----> 1\u001b[1;33m \u001b[0mimg\u001b[0m\u001b[1;33m=\u001b[0m \u001b[0mcv2\u001b[0m\u001b[1;33m.\u001b[0m\u001b[0mimread\u001b[0m\u001b[1;33m(\u001b[0m\u001b[1;34m'frames/'\u001b[0m \u001b[1;33m+\u001b[0m \u001b[0mframes\u001b[0m\u001b[1;33m[\u001b[0m\u001b[1;36m10\u001b[0m\u001b[1;33m]\u001b[0m\u001b[1;33m)\u001b[0m\u001b[1;33m\u001b[0m\u001b[1;33m\u001b[0m\u001b[0m\n\u001b[0m\u001b[0;32m      2\u001b[0m \u001b[0mgray\u001b[0m \u001b[1;33m=\u001b[0m \u001b[0mcv2\u001b[0m\u001b[1;33m.\u001b[0m\u001b[0mcvtColor\u001b[0m\u001b[1;33m(\u001b[0m\u001b[0mimg\u001b[0m\u001b[1;33m,\u001b[0m \u001b[0mcv2\u001b[0m\u001b[1;33m.\u001b[0m\u001b[0mCOLOR_BGR2GRAY\u001b[0m\u001b[1;33m)\u001b[0m\u001b[1;33m\u001b[0m\u001b[1;33m\u001b[0m\u001b[0m\n\u001b[0;32m      3\u001b[0m \u001b[0mgray\u001b[0m \u001b[1;33m=\u001b[0m \u001b[0mcv2\u001b[0m\u001b[1;33m.\u001b[0m\u001b[0mGaussianBlur\u001b[0m\u001b[1;33m(\u001b[0m\u001b[0mgray\u001b[0m\u001b[1;33m,\u001b[0m\u001b[1;33m(\u001b[0m\u001b[1;36m25\u001b[0m\u001b[1;33m,\u001b[0m\u001b[1;36m25\u001b[0m\u001b[1;33m)\u001b[0m\u001b[1;33m,\u001b[0m\u001b[1;36m0\u001b[0m\u001b[1;33m)\u001b[0m\u001b[1;33m\u001b[0m\u001b[1;33m\u001b[0m\u001b[0m\n\u001b[0;32m      4\u001b[0m \u001b[1;33m\u001b[0m\u001b[0m\n\u001b[0;32m      5\u001b[0m \u001b[0mplt\u001b[0m\u001b[1;33m.\u001b[0m\u001b[0mfigure\u001b[0m\u001b[1;33m(\u001b[0m\u001b[0mfigsize\u001b[0m\u001b[1;33m=\u001b[0m\u001b[1;33m(\u001b[0m\u001b[1;36m5\u001b[0m\u001b[1;33m,\u001b[0m\u001b[1;36m10\u001b[0m\u001b[1;33m)\u001b[0m\u001b[1;33m)\u001b[0m\u001b[1;33m\u001b[0m\u001b[1;33m\u001b[0m\u001b[0m\n",
      "\u001b[1;31mNameError\u001b[0m: name 'frames' is not defined"
     ]
    }
   ],
   "source": [
    "img= cv2.imread('frames/' + frames[10])\n",
    "gray = cv2.cvtColor(img, cv2.COLOR_BGR2GRAY)\n",
    "gray = cv2.GaussianBlur(gray,(25,25),0)\n",
    "\n",
    "plt.figure(figsize=(5,10))\n",
    "plt.imshow(gray,cmap='gray')"
   ]
  },
  {
   "cell_type": "code",
   "execution_count": 18,
   "id": "bc0293f0",
   "metadata": {},
   "outputs": [
    {
     "ename": "NameError",
     "evalue": "name 'gray' is not defined",
     "output_type": "error",
     "traceback": [
      "\u001b[1;31m---------------------------------------------------------------------------\u001b[0m",
      "\u001b[1;31mNameError\u001b[0m                                 Traceback (most recent call last)",
      "\u001b[1;32m<ipython-input-18-affbd86f33f1>\u001b[0m in \u001b[0;36m<module>\u001b[1;34m\u001b[0m\n\u001b[1;32m----> 1\u001b[1;33m \u001b[0m_\u001b[0m \u001b[1;33m,\u001b[0m \u001b[0mmask\u001b[0m \u001b[1;33m=\u001b[0m \u001b[0mcv2\u001b[0m\u001b[1;33m.\u001b[0m\u001b[0mthreshold\u001b[0m\u001b[1;33m(\u001b[0m\u001b[0mgray\u001b[0m\u001b[1;33m,\u001b[0m \u001b[1;36m200\u001b[0m\u001b[1;33m,\u001b[0m \u001b[1;36m255\u001b[0m\u001b[1;33m,\u001b[0m \u001b[0mcv2\u001b[0m\u001b[1;33m.\u001b[0m\u001b[0mTHRESH_BINARY\u001b[0m\u001b[1;33m)\u001b[0m\u001b[1;33m\u001b[0m\u001b[1;33m\u001b[0m\u001b[0m\n\u001b[0m\u001b[0;32m      2\u001b[0m \u001b[1;33m\u001b[0m\u001b[0m\n\u001b[0;32m      3\u001b[0m \u001b[0mplt\u001b[0m\u001b[1;33m.\u001b[0m\u001b[0mfigure\u001b[0m\u001b[1;33m(\u001b[0m\u001b[0mfigsize\u001b[0m\u001b[1;33m=\u001b[0m\u001b[1;33m(\u001b[0m\u001b[1;36m5\u001b[0m\u001b[1;33m,\u001b[0m\u001b[1;36m5\u001b[0m\u001b[1;33m)\u001b[0m\u001b[1;33m)\u001b[0m\u001b[1;33m\u001b[0m\u001b[1;33m\u001b[0m\u001b[0m\n\u001b[0;32m      4\u001b[0m \u001b[0mplt\u001b[0m\u001b[1;33m.\u001b[0m\u001b[0mimshow\u001b[0m\u001b[1;33m(\u001b[0m\u001b[0mmask\u001b[0m\u001b[1;33m,\u001b[0m\u001b[0mcmap\u001b[0m\u001b[1;33m=\u001b[0m\u001b[1;34m'gray'\u001b[0m\u001b[1;33m)\u001b[0m\u001b[1;33m\u001b[0m\u001b[1;33m\u001b[0m\u001b[0m\n",
      "\u001b[1;31mNameError\u001b[0m: name 'gray' is not defined"
     ]
    }
   ],
   "source": [
    "_ , mask = cv2.threshold(gray, 200, 255, cv2.THRESH_BINARY)\n",
    "\n",
    "plt.figure(figsize=(5,5))\n",
    "plt.imshow(mask,cmap='gray')"
   ]
  },
  {
   "cell_type": "code",
   "execution_count": 19,
   "id": "253c148b",
   "metadata": {},
   "outputs": [
    {
     "ename": "NameError",
     "evalue": "name 'mask' is not defined",
     "output_type": "error",
     "traceback": [
      "\u001b[1;31m---------------------------------------------------------------------------\u001b[0m",
      "\u001b[1;31mNameError\u001b[0m                                 Traceback (most recent call last)",
      "\u001b[1;32m<ipython-input-19-aff36a5895e5>\u001b[0m in \u001b[0;36m<module>\u001b[1;34m\u001b[0m\n\u001b[1;32m----> 1\u001b[1;33m \u001b[0mimage\u001b[0m\u001b[1;33m,\u001b[0m \u001b[0mcontours\u001b[0m\u001b[1;33m,\u001b[0m \u001b[0m_\u001b[0m \u001b[1;33m=\u001b[0m \u001b[0mcv2\u001b[0m\u001b[1;33m.\u001b[0m\u001b[0mfindContours\u001b[0m\u001b[1;33m(\u001b[0m\u001b[0mmask\u001b[0m\u001b[1;33m,\u001b[0m \u001b[0mcv2\u001b[0m\u001b[1;33m.\u001b[0m\u001b[0mRETR_TREE\u001b[0m\u001b[1;33m,\u001b[0m \u001b[0mcv2\u001b[0m\u001b[1;33m.\u001b[0m\u001b[0mCHAIN_APPROX_SIMPLE\u001b[0m\u001b[1;33m)\u001b[0m\u001b[1;33m\u001b[0m\u001b[1;33m\u001b[0m\u001b[0m\n\u001b[0m",
      "\u001b[1;31mNameError\u001b[0m: name 'mask' is not defined"
     ]
    }
   ],
   "source": [
    "\n",
    "image, contours, _ = cv2.findContours(mask, cv2.RETR_TREE, cv2.CHAIN_APPROX_SIMPLE)"
   ]
  },
  {
   "cell_type": "code",
   "execution_count": 20,
   "id": "393630a7",
   "metadata": {},
   "outputs": [
    {
     "ename": "NameError",
     "evalue": "name 'gray' is not defined",
     "output_type": "error",
     "traceback": [
      "\u001b[1;31m---------------------------------------------------------------------------\u001b[0m",
      "\u001b[1;31mNameError\u001b[0m                                 Traceback (most recent call last)",
      "\u001b[1;32m<ipython-input-20-73673067fb88>\u001b[0m in \u001b[0;36m<module>\u001b[1;34m\u001b[0m\n\u001b[1;32m----> 1\u001b[1;33m \u001b[0mimg_copy\u001b[0m \u001b[1;33m=\u001b[0m \u001b[0mnp\u001b[0m\u001b[1;33m.\u001b[0m\u001b[0mcopy\u001b[0m\u001b[1;33m(\u001b[0m\u001b[0mgray\u001b[0m\u001b[1;33m)\u001b[0m\u001b[1;33m\u001b[0m\u001b[1;33m\u001b[0m\u001b[0m\n\u001b[0m\u001b[0;32m      2\u001b[0m \u001b[0mcv2\u001b[0m\u001b[1;33m.\u001b[0m\u001b[0mdrawContours\u001b[0m\u001b[1;33m(\u001b[0m\u001b[0mimg_copy\u001b[0m\u001b[1;33m,\u001b[0m \u001b[0mcontours\u001b[0m\u001b[1;33m,\u001b[0m \u001b[1;33m-\u001b[0m\u001b[1;36m1\u001b[0m\u001b[1;33m,\u001b[0m \u001b[1;33m(\u001b[0m\u001b[1;36m0\u001b[0m\u001b[1;33m,\u001b[0m\u001b[1;36m255\u001b[0m\u001b[1;33m,\u001b[0m\u001b[1;36m0\u001b[0m\u001b[1;33m)\u001b[0m\u001b[1;33m,\u001b[0m \u001b[1;36m3\u001b[0m\u001b[1;33m)\u001b[0m\u001b[1;33m\u001b[0m\u001b[1;33m\u001b[0m\u001b[0m\n\u001b[0;32m      3\u001b[0m \u001b[0mplt\u001b[0m\u001b[1;33m.\u001b[0m\u001b[0mimshow\u001b[0m\u001b[1;33m(\u001b[0m\u001b[0mimg_copy\u001b[0m\u001b[1;33m,\u001b[0m \u001b[0mcmap\u001b[0m\u001b[1;33m=\u001b[0m\u001b[1;34m'gray'\u001b[0m\u001b[1;33m)\u001b[0m\u001b[1;33m\u001b[0m\u001b[1;33m\u001b[0m\u001b[0m\n",
      "\u001b[1;31mNameError\u001b[0m: name 'gray' is not defined"
     ]
    }
   ],
   "source": [
    "\n",
    "img_copy = np.copy(gray)\n",
    "cv2.drawContours(img_copy, contours, -1, (0,255,0), 3)\n",
    "plt.imshow(img_copy, cmap='gray')"
   ]
  },
  {
   "cell_type": "code",
   "execution_count": 21,
   "id": "16d5a29e",
   "metadata": {},
   "outputs": [
    {
     "name": "stderr",
     "output_type": "stream",
     "text": [
      "'rm' is not recognized as an internal or external command,\n",
      "operable program or batch file.\n"
     ]
    },
    {
     "ename": "NameError",
     "evalue": "name 'contours' is not defined",
     "output_type": "error",
     "traceback": [
      "\u001b[1;31m---------------------------------------------------------------------------\u001b[0m",
      "\u001b[1;31mNameError\u001b[0m                                 Traceback (most recent call last)",
      "\u001b[1;32m<ipython-input-21-76cc9b93ad4b>\u001b[0m in \u001b[0;36m<module>\u001b[1;34m\u001b[0m\n\u001b[0;32m      3\u001b[0m \u001b[0mnum\u001b[0m\u001b[1;33m=\u001b[0m\u001b[1;36m20\u001b[0m\u001b[1;33m\u001b[0m\u001b[1;33m\u001b[0m\u001b[0m\n\u001b[0;32m      4\u001b[0m \u001b[0mcnt\u001b[0m\u001b[1;33m=\u001b[0m\u001b[1;36m0\u001b[0m\u001b[1;33m\u001b[0m\u001b[1;33m\u001b[0m\u001b[0m\n\u001b[1;32m----> 5\u001b[1;33m \u001b[1;32mfor\u001b[0m \u001b[0mi\u001b[0m \u001b[1;32min\u001b[0m \u001b[0mrange\u001b[0m\u001b[1;33m(\u001b[0m\u001b[0mlen\u001b[0m\u001b[1;33m(\u001b[0m\u001b[0mcontours\u001b[0m\u001b[1;33m)\u001b[0m\u001b[1;33m)\u001b[0m\u001b[1;33m:\u001b[0m\u001b[1;33m\u001b[0m\u001b[1;33m\u001b[0m\u001b[0m\n\u001b[0m\u001b[0;32m      6\u001b[0m     \u001b[0mx\u001b[0m\u001b[1;33m,\u001b[0m\u001b[0my\u001b[0m\u001b[1;33m,\u001b[0m\u001b[0mw\u001b[0m\u001b[1;33m,\u001b[0m\u001b[0mh\u001b[0m \u001b[1;33m=\u001b[0m \u001b[0mcv2\u001b[0m\u001b[1;33m.\u001b[0m\u001b[0mboundingRect\u001b[0m\u001b[1;33m(\u001b[0m\u001b[0mcontours\u001b[0m\u001b[1;33m[\u001b[0m\u001b[0mi\u001b[0m\u001b[1;33m]\u001b[0m\u001b[1;33m)\u001b[0m\u001b[1;33m\u001b[0m\u001b[1;33m\u001b[0m\u001b[0m\n\u001b[0;32m      7\u001b[0m \u001b[1;33m\u001b[0m\u001b[0m\n",
      "\u001b[1;31mNameError\u001b[0m: name 'contours' is not defined"
     ]
    }
   ],
   "source": [
    "!rm -r patch/*\n",
    "\n",
    "num=20\n",
    "cnt=0\n",
    "for i in range(len(contours)):\n",
    "    x,y,w,h = cv2.boundingRect(contours[i])\n",
    "    \n",
    "    numer=min([w,h])\n",
    "    denom=max([w,h])\n",
    "    ratio=numer/denom\n",
    "\n",
    "    if(x>=num and y>=num):\n",
    "        xmin, ymin= x-num, y-num\n",
    "        xmax, ymax= x+w+num, y+h+num\n",
    "    else:\n",
    "        xmin, ymin=x, y\n",
    "        xmax, ymax=x+w, y+h\n",
    "\n",
    "    if(ratio>=0.5 and ((w<=10) and (h<=10)) ):    \n",
    "        print(cnt,x,y,w,h,ratio)\n",
    "        cv2.imwrite(\"patch/\"+str(cnt)+\".png\",img[ymin:ymax,xmin:xmax])\n",
    "        cnt=cnt+1"
   ]
  },
  {
   "cell_type": "code",
   "execution_count": null,
   "id": "4299da90",
   "metadata": {},
   "outputs": [],
   "source": [
    "import os\n",
    "import cv2\n",
    "import numpy as np\n",
    "import pandas as pd\n",
    "folders=os.listdir('data/')\n",
    "\n",
    "images=[]\n",
    "labels= []\n",
    "for folder in folders:\n",
    "    files=os.listdir('data/'+folder)\n",
    "    for file in files:\n",
    "        img=cv2.imread('data/'+folder+'/'+file,0)\n",
    "        img=cv2.resize(img,(25,25))\n",
    "          images.append(img)\n",
    "        labels.append(int(folder))\n",
    "\n",
    "images = np.array(images)\n",
    "features = images.reshape(len(images),-1)"
   ]
  },
  {
   "cell_type": "code",
   "execution_count": null,
   "id": "1f916208",
   "metadata": {},
   "outputs": [],
   "source": [
    "from sklearn.model_selection import train_test_split\n",
    "x_tr,x_val,y_tr,y_val = train_test_split(features,labels, test_size=0.2, stratify=labels,random_state=0)\n"
   ]
  },
  {
   "cell_type": "code",
   "execution_count": null,
   "id": "5e995a63",
   "metadata": {},
   "outputs": [],
   "source": [
    "from sklearn.ensemble import RandomForestClassifier \n",
    "rfc = RandomForestClassifier(max_depth=3) \n",
    "rfc.fit(x_tr,y_tr)"
   ]
  },
  {
   "cell_type": "code",
   "execution_count": null,
   "id": "5bfed52d",
   "metadata": {},
   "outputs": [],
   "source": [
    "from sklearn.metrics import classification_report\n",
    "y_pred = rfc.predict(x_val)\n",
    "print(classification_report(y_val,y_pred))"
   ]
  },
  {
   "cell_type": "code",
   "execution_count": null,
   "id": "dc03a0c0",
   "metadata": {},
   "outputs": [],
   "source": [
    "!rm -r ball/*\n",
    "ball_df = pd.DataFrame(columns=['frame','x','y','w','h'])\n",
    "\n",
    "for idx in range(len(frames)):\n",
    "    \n",
    "    img= cv2.imread('frames/' + frames[idx])\n",
    "    gray = cv2.cvtColor(img, cv2.COLOR_BGR2GRAY)\n",
    "    gray = cv2.GaussianBlur(gray,(25, 25),0)\n",
    "    _ , mask = cv2.threshold(gray, 200, 255, cv2.THRESH_BINARY)\n",
    "    image, contours, _ = cv2.findContours(mask, cv2.RETR_TREE, cv2.CHAIN_APPROX_SIMPLE)\n",
    "    \n",
    "    !rm -r patch/*\n",
    "\n",
    "    num=20\n",
    "    cnt=0\n",
    "    df = pd.DataFrame(columns=['frame','x','y','w','h'])\n",
    "    for i in range(len(contours)):\n",
    "        x,y,w,h = cv2.boundingRect(contours[i])\n",
    "\n",
    "        numer=min([w,h])\n",
    "        denom=max([w,h])\n",
    "        ratio=numer/denom\n",
    "\n",
    "        if(x>=num and y>=num):\n",
    "            xmin, ymin= x-num, y-num\n",
    "            xmax, ymax= x+w+num, y+h+num\n",
    "        else:\n",
    "            xmin, ymin= x,y\n",
    "             xmax, ymax= x+w, y+h\n",
    "\n",
    "        if(ratio>=0.5):    \n",
    "            #print(cnt,x,y,w,h,ratio)\n",
    "            df.loc[cnt,'frame'] = frames[idx]\n",
    "            df.loc[cnt,'x']=x\n",
    "            df.loc[cnt,'y']=y\n",
    "            df.loc[cnt,'w']=w\n",
    "            df.loc[cnt,'h']=h\n",
    "            \n",
    "            cv2.imwrite(\"patch/\"+str(cnt)+\".png\",img[ymin:ymax,xmin:xmax])\n",
    "            cnt=cnt+1\n",
    "              files=os.listdir('patch/')    \n",
    "    if(len(files)>0):\n",
    "    \n",
    "        files.sort(key=lambda f: int(re.sub('\\D', '', f)))\n",
    "\n",
    "        test=[]\n",
    "        for file in files:\n",
    "            img=cv2.imread('patch/'+file,0)\n",
    "            img=cv2.resize(img,(25,25))\n",
    "            test.append(img)\n",
    "\n",
    "        test = np.array(test)\n",
    "        test = test.reshape(len(test),-1)\n",
    "        y_pred = rfc.predict(test)\n",
    "        prob=rfc.predict_proba(test)\n",
    "\n",
    "        if 0 in y_pred:\n",
    "            ind = np.where(y_pred==0)[0]\n",
    "            proba = prob[:,0]\n",
    "            confidence = proba[ind]\n",
    "            confidence = [i for i in confidence if i>0.7]\n",
    "            if(len(confidence)>0):\n",
    "\n",
    "                maximum = max(confidence)\n",
    "                ball_file=files[list(proba).index(maximum)]\n",
    "                test = test.reshape(len(test),-1)\n",
    "        y_pred = rfc.predict(test)\n",
    "        prob=rfc.predict_proba(test)\n",
    "\n",
    "        if 0 in y_pred:\n",
    "            ind = np.where(y_pred==0)[0]\n",
    "            proba = prob[:,0]\n",
    "            confidence = proba[ind]\n",
    "            confidence = [i for i in confidence if i>0.7]\n",
    "            if(len(confidence)>0):\n",
    "\n",
    "                maximum = max(confidence)\n",
    "                ball_file=files[list(proba).index(maximum)]\n",
    "                \n",
    "                \n",
    "                img= cv2.imread('patch/'+ball_file)\n",
    "                cv2.imwrite('ball/'+str(frames[idx]),img)\n",
    "\n",
    "                no = int(ball_file.split(\".\")[0])\n",
    "                ball_df.loc[idx]= df.loc[no]\n",
    "        else:\n",
    "                ball_df.loc[idx,'frame']=frames[idx]\n",
    "\n",
    "    else:\n",
    "            ball_df.loc[idx,'frame']=frames[idx]"
   ]
  },
  {
   "cell_type": "code",
   "execution_count": null,
   "id": "f678f8fc",
   "metadata": {},
   "outputs": [],
   "source": [
    "ball_df.dropna(inplace=True)\n",
    "print(ball_df)\n"
   ]
  },
  {
   "cell_type": "code",
   "execution_count": null,
   "id": "7958d071",
   "metadata": {},
   "outputs": [],
   "source": [
    "files = ball_df['frame'].values\n",
    "\n",
    "num=10\n",
    "for idx in range(len(files)):\n",
    "    \n",
    "    #draw contours \n",
    "    img = cv2.imread('frames/'+files[idx])\n",
    "    \n",
    "    x=ball_df.loc[idx,'x']\n",
    "    y=ball_df.loc[idx,'y']\n",
    "    w=ball_df.loc[idx,'w']\n",
    "    h=ball_df.loc[idx,'h']\n",
    "    \n",
    "    xmin=x-num\n",
    "    ymin=y-num\n",
    "    xmax=x+w+num\n",
    "    ymax=y+h+num\n",
    "    cv2.rectangle(img, (xmin, ymin), (xmax, ymax), (255,0,0), 2)\n",
    "    cv2.imwrite(\"frames/\"+files[idx],img)      "
   ]
  },
  {
   "cell_type": "code",
   "execution_count": null,
   "id": "3c3f8144",
   "metadata": {},
   "outputs": [],
   "source": [
    "frames = os.listdir('frames/')\n",
    "frames.sort(key=lambda f: int(re.sub('\\D', '', f)))\n",
    "\n",
    "frame_array=[]\n",
    "\n",
    "for i in range(len(frames)):\n",
    "    #reading each files\n",
    "    img = cv2.imread('frames/'+frames[i])\n",
    "    height, width, layers = img.shape\n",
    "    size = (width,height)\n",
    "    #inserting the frames into an image array\n",
    "    frame_array.append(img)\n",
    "\n",
    "out = cv2.VideoWriter('28.mp4',cv2.VideoWriter_fourcc(*'DIVX'), 25, size)\n",
    " for i in range(len(frame_array)):\n",
    "    # writing to a image array\n",
    "    out.write(frame_array[i])\n",
    "out.release()"
   ]
  },
  {
   "cell_type": "code",
   "execution_count": null,
   "id": "e8fe1901",
   "metadata": {},
   "outputs": [],
   "source": []
  },
  {
   "cell_type": "code",
   "execution_count": null,
   "id": "c0545c2a",
   "metadata": {},
   "outputs": [],
   "source": []
  },
  {
   "cell_type": "code",
   "execution_count": null,
   "id": "293c71b5",
   "metadata": {},
   "outputs": [],
   "source": []
  }
 ],
 "metadata": {
  "kernelspec": {
   "display_name": "Python 3",
   "language": "python",
   "name": "python3"
  },
  "language_info": {
   "codemirror_mode": {
    "name": "ipython",
    "version": 3
   },
   "file_extension": ".py",
   "mimetype": "text/x-python",
   "name": "python",
   "nbconvert_exporter": "python",
   "pygments_lexer": "ipython3",
   "version": "3.8.8"
  }
 },
 "nbformat": 4,
 "nbformat_minor": 5
}
